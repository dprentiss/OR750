{
 "cells": [
  {
   "cell_type": "code",
   "execution_count": 1,
   "metadata": {},
   "outputs": [],
   "source": [
    "import numpy as np\n",
    "import matplotlib.pyplot as plt\n",
    "import struct"
   ]
  },
  {
   "cell_type": "code",
   "execution_count": 2,
   "metadata": {},
   "outputs": [],
   "source": [
    "np.random.seed(0)"
   ]
  },
  {
   "cell_type": "code",
   "execution_count": 3,
   "metadata": {},
   "outputs": [],
   "source": [
    "def read_idx(filename):\n",
    "    with open(filename, 'rb') as f:\n",
    "        zero, data_type, dims = struct.unpack('>HBB', f.read(4))\n",
    "        shape = tuple(struct.unpack('>I', f.read(4))[0] for d in range(dims))\n",
    "        return np.frombuffer(f.read(), dtype=np.uint8).reshape(shape)"
   ]
  },
  {
   "cell_type": "code",
   "execution_count": 4,
   "metadata": {},
   "outputs": [],
   "source": [
    "train_images = read_idx('./data/train-images.idx3-ubyte')\n",
    "train_images = train_images.reshape(60000, 28*28)"
   ]
  },
  {
   "cell_type": "code",
   "execution_count": 5,
   "metadata": {},
   "outputs": [],
   "source": [
    "train_labels = read_idx('./data/train-labels.idx1-ubyte')\n",
    "one_hot = np.zeros((train_labels.shape[0], 10))\n",
    "one_hot[np.arange(train_labels.shape[0]), train_labels] = 1\n",
    "train_labels = one_hot"
   ]
  },
  {
   "cell_type": "code",
   "execution_count": 6,
   "metadata": {},
   "outputs": [],
   "source": [
    "test_images = read_idx('./data/t10k-images.idx3-ubyte')\n",
    "test_images = test_images.reshape(10000, 28*28)\n",
    "test_labels = read_idx('./data/t10k-labels.idx1-ubyte')"
   ]
  },
  {
   "cell_type": "code",
   "execution_count": 7,
   "metadata": {},
   "outputs": [],
   "source": [
    "def softmax(x):\n",
    "    e_x = np.exp(x - np.max(x))\n",
    "    return e_x / e_x.sum()"
   ]
  },
  {
   "cell_type": "code",
   "execution_count": 8,
   "metadata": {},
   "outputs": [],
   "source": [
    "class Layer:\n",
    "    def __init__(self, input_size, size, activation_function, activation_prime, W=None, b=None, init=None):\n",
    "        self.size = size\n",
    "        if W == None:\n",
    "            if init == None:\n",
    "                self.W = np.random.normal(0, 0.01, (size, input_size))\n",
    "        else:\n",
    "            self.W = W\n",
    "        self.b = np.zeros(size)\n",
    "        self.error = np.zeros(size)\n",
    "        self.func = activation_function\n",
    "        self.func_prime = activation_prime\n",
    "        \n",
    "    def predict(self, a):\n",
    "        self.a_in = a\n",
    "        self.z = self.b + self.W.dot(a)\n",
    "        self.a = self.func(self.z)\n",
    "        return self.a\n",
    "    \n",
    "    def backprop(self, learning_rate, W=None, error=None, loss=[]):\n",
    "        if len(loss) == 0:\n",
    "            self.error = W.transpose().dot(error) * self.func_prime(self.z)\n",
    "        else:\n",
    "            self.error = loss * self.func_prime(self.z)\n",
    "        self.W -= learning_rate * np.outer(self.error, self.a_in)\n",
    "        self.b -= self.error"
   ]
  },
  {
   "cell_type": "code",
   "execution_count": 28,
   "metadata": {},
   "outputs": [],
   "source": [
    "class MLP:\n",
    "    def __init__(self, input_size, output_size, *layers, learning_rate = 0.0001, batch_size = 100):\n",
    "        self.input_size = input_size\n",
    "        self.output_size = output_size\n",
    "        self.learning_rate = learning_rate\n",
    "        \n",
    "        self.hidden_layers = layers\n",
    "        self.output_layer = Layer(self.hidden_layers[-1].size, self.output_size, np.tanh, lambda x:1-np.tanh(x)**2)\n",
    "        self.layers = self.hidden_layers + (self.output_layer,)\n",
    "        self.learning_rate = learning_rate\n",
    "        self.batch_size = batch_size\n",
    "    \n",
    "    def predict(self, a):\n",
    "        for f in self.layers:\n",
    "            a = f.predict(a)\n",
    "        return softmax(a)\n",
    "    \n",
    "    def loss(self, x, y):\n",
    "        return -(y * np.log(self.predict(x))).sum()\n",
    "    \n",
    "    def delta_loss(self, x, y):\n",
    "        return self.predict(x) - y\n",
    "    \n",
    "    def train_batch(self, x, y):\n",
    "        self.output_layer.backprop(self.learning_rate, loss=self.delta_loss(x, y))\n",
    "        W = self.output_layer.W\n",
    "        error = self.output_layer.error\n",
    "        for l in reversed(range(len(self.hidden_layers))):\n",
    "            self.hidden_layers[l].backprop(self.learning_rate, W, error)\n",
    "            W = self.hidden_layers[l].W\n",
    "            error = self.hidden_layers[l].error\n",
    "            \n",
    "    def test_train(self, x, y):\n",
    "        for i in range(60000):\n",
    "            self.train_batch(x[i], y[i])\n",
    "            \n",
    "    def test(self, x, y):\n",
    "        N = y.shape[0]\n",
    "        errors = 0\n",
    "        for i in range(N):\n",
    "            if np.argmax(mlp.predict(test_images[i])) != test_labels[i]:\n",
    "                errors += 1\n",
    "        return errors / N"
   ]
  },
  {
   "cell_type": "code",
   "execution_count": 10,
   "metadata": {},
   "outputs": [],
   "source": [
    "hl = Layer(28*28, 28*28, np.tanh, lambda x:1-np.tanh(x)**2)"
   ]
  },
  {
   "cell_type": "code",
   "execution_count": 11,
   "metadata": {},
   "outputs": [],
   "source": [
    "mlp = MLP(28*28, 10, hl)"
   ]
  },
  {
   "cell_type": "code",
   "execution_count": 12,
   "metadata": {},
   "outputs": [],
   "source": [
    "mlp.test_train(train_images, train_labels)"
   ]
  },
  {
   "cell_type": "code",
   "execution_count": 13,
   "metadata": {},
   "outputs": [
    {
     "data": {
      "text/plain": [
       "0.081"
      ]
     },
     "execution_count": 13,
     "metadata": {},
     "output_type": "execute_result"
    }
   ],
   "source": [
    "mlp.test(test_images, test_labels)"
   ]
  },
  {
   "cell_type": "code",
   "execution_count": 35,
   "metadata": {},
   "outputs": [
    {
     "name": "stdout",
     "output_type": "stream",
     "text": [
      "3\n"
     ]
    },
    {
     "data": {
      "image/png": "[encoded data removed]",
      "text/plain": [
       "<matplotlib.figure.Figure at 0x7f23e7890a90>"
      ]
     },
     "metadata": {},
     "output_type": "display_data"
    }
   ],
   "source": [
    "i = 5708\n",
    "print(test_labels[i])\n",
    "plt.bar(range(10), mlp.predict(test_images[i]))\n",
    "plt.show()"
   ]
  },
  {
   "cell_type": "code",
   "execution_count": 36,
   "metadata": {},
   "outputs": [
    {
     "data": {
      "image/png": "[encoded data removed]",
      "text/plain": [
       "<matplotlib.figure.Figure at 0x7f23e78844a8>"
      ]
     },
     "metadata": {},
     "output_type": "display_data"
    }
   ],
   "source": [
    "plt.imshow(test_images[i].reshape((28,28)))\n",
    "plt.show()"
   ]
  },
  {
   "cell_type": "code",
   "execution_count": null,
   "metadata": {},
   "outputs": [],
   "source": []
  }
 ],
 "metadata": {
  "kernelspec": {
   "display_name": "Python 3",
   "language": "python",
   "name": "python3"
  },
  "language_info": {
   "codemirror_mode": {
    "name": "ipython",
    "version": 3
   },
   "file_extension": ".py",
   "mimetype": "text/x-python",
   "name": "python",
   "nbconvert_exporter": "python",
   "pygments_lexer": "ipython3",
   "version": "3.6.4"
  }
 },
 "nbformat": 4,
 "nbformat_minor": 2
}
