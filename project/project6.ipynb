{
 "cells": [
  {
   "cell_type": "code",
   "execution_count": 6,
   "metadata": {},
   "outputs": [],
   "source": [
    "import pandas as pd\n",
    "import torch\n",
    "import torch.nn as nn\n",
    "import torch.nn.functional as F\n",
    "import matplotlib.pyplot as plt"
   ]
  },
  {
   "cell_type": "code",
   "execution_count": 7,
   "metadata": {},
   "outputs": [],
   "source": [
    "%run project.py"
   ]
  },
  {
   "cell_type": "code",
   "execution_count": 8,
   "metadata": {},
   "outputs": [],
   "source": [
    "num_meters = 96\n",
    "input_dim = num_meters\n",
    "hidden_dim = 24\n",
    "batch_dim = 1\n",
    "output_dim = 96 * 4\n",
    "num_layers = 24\n",
    "learning_rate = 0.01\n",
    "num_epochs = 500"
   ]
  },
  {
   "cell_type": "code",
   "execution_count": 9,
   "metadata": {},
   "outputs": [],
   "source": [
    "ami = pd.read_csv('./data/ami-uniq.txt', sep='\\t')\n",
    "ami['datetime'] = pd.to_datetime(ami['datetime'], format='%Y-%m-%d %H:%M:%S')\n",
    "#weather = pd.read_csv('./data/WeatherData_Zipcode_77088.csv')\n",
    "#weather = weather.drop(columns=['LocalDateTime', 'TimeZone'])"
   ]
  },
  {
   "cell_type": "code",
   "execution_count": 10,
   "metadata": {},
   "outputs": [],
   "source": [
    "#ami.loc[ami['id']==81].plot(y='kw', figsize=(30,6))"
   ]
  },
  {
   "cell_type": "code",
   "execution_count": 11,
   "metadata": {},
   "outputs": [],
   "source": [
    "series_kw = ami.pivot(index='id', columns='datetime', values='kw')"
   ]
  },
  {
   "cell_type": "code",
   "execution_count": 12,
   "metadata": {},
   "outputs": [],
   "source": [
    "#series_kw.count().unique()"
   ]
  },
  {
   "cell_type": "code",
   "execution_count": 13,
   "metadata": {},
   "outputs": [],
   "source": [
    "t_0 = series_kw.loc[:,series_kw.count() > 82].columns[0]\n",
    "t_f = series_kw.loc[:,series_kw.count() > 82].columns[-1]\n",
    "kw_part = series_kw.loc[:,t_0:t_f].fillna(0)\n",
    "kw_x_norm = (kw_part - kw_part.mean().mean()) / (kw_part.max().max() - kw_part.min().min())\n",
    "kw_sum = kw_part.sum() / kw_part.count() * num_meters\n",
    "kw_y_norm = (kw_sum - kw_sum.mean()) / (kw_sum.max() - kw_sum.min())"
   ]
  },
  {
   "cell_type": "code",
   "execution_count": 14,
   "metadata": {},
   "outputs": [],
   "source": [
    "#kw_y_norm.plot(figsize=(100,5))"
   ]
  },
  {
   "cell_type": "code",
   "execution_count": 15,
   "metadata": {},
   "outputs": [],
   "source": [
    "X_train = torch.tensor(kw_x_norm.transpose().values).float()\n",
    "X_train = X_train.view([-1, 1, input_dim])\n",
    "y_train = torch.tensor(kw_y_norm).float()\n",
    "y_train = y_train.unfold(0, 96*4, 1)\n",
    "#y_train.size()"
   ]
  },
  {
   "cell_type": "code",
   "execution_count": 16,
   "metadata": {},
   "outputs": [],
   "source": [
    "model = AmiTest(input_dim, hidden_dim, batch_dim, output_dim, num_layers)\n",
    "loss_fn = torch.nn.MSELoss(reduction='sum')\n",
    "optimizer = torch.optim.Adam(model.parameters(), lr=learning_rate)\n",
    "hist = np.zeros(num_epochs)"
   ]
  },
  {
   "cell_type": "code",
   "execution_count": 17,
   "metadata": {},
   "outputs": [],
   "source": [
    "model.hidden = model.init_hidden()"
   ]
  },
  {
   "cell_type": "code",
   "execution_count": null,
   "metadata": {},
   "outputs": [
    {
     "name": "stdout",
     "output_type": "stream",
     "text": [
      "Epoch  0 MSE:  227448.203125\n"
     ]
    }
   ],
   "source": [
    "for t in range(num_epochs):\n",
    "    model.hidden = model.init_hidden()\n",
    "    y_pred = model(X_train)\n",
    "    loss = loss_fn(y_pred[0:y_train.size(0),0], y_train)\n",
    "    if t % 1 == 0:\n",
    "        print(\"Epoch \", t, \"MSE: \", loss.item())\n",
    "    hist[t] = loss.item()\n",
    "    optimizer.zero_grad()\n",
    "    loss.backward()\n",
    "    optimizer.step()"
   ]
  },
  {
   "cell_type": "code",
   "execution_count": null,
   "metadata": {},
   "outputs": [],
   "source": [
    "t = 2060\n",
    "plt.plot(y_pred[0:y_train.size(0),0][t].detach().numpy(), label=\"pred\")\n",
    "plt.plot(y_train[t].detach().numpy(), label=\"data\")\n",
    "plt.legend()\n",
    "plt.show()"
   ]
  },
  {
   "cell_type": "code",
   "execution_count": null,
   "metadata": {},
   "outputs": [],
   "source": [
    "t = 10384\n",
    "plt.plot(y_pred[0:y_train.size(0),0][t].detach().numpy(), label=\"pred\")\n",
    "plt.plot(y_train[t].detach().numpy(), label=\"data\")\n",
    "plt.legend()\n",
    "plt.show()"
   ]
  },
  {
   "cell_type": "code",
   "execution_count": 17,
   "metadata": {},
   "outputs": [
    {
     "data": {
      "text/plain": [
       "[<matplotlib.lines.Line2D at 0x7f921feb0f28>]"
      ]
     },
     "execution_count": 17,
     "metadata": {},
     "output_type": "execute_result"
    },
    {
     "data": {
      "image/png": "[encoded data removed]",
      "text/plain": [
       "<matplotlib.figure.Figure at 0x7f9220fa3d30>"
      ]
     },
     "metadata": {},
     "output_type": "display_data"
    }
   ],
   "source": [
    "plt.plot(hist)"
   ]
  },
  {
   "cell_type": "code",
   "execution_count": null,
   "metadata": {},
   "outputs": [],
   "source": []
  }
 ],
 "metadata": {
  "kernelspec": {
   "display_name": "Python 3",
   "language": "python",
   "name": "python3"
  },
  "language_info": {
   "codemirror_mode": {
    "name": "ipython",
    "version": 3
   },
   "file_extension": ".py",
   "mimetype": "text/x-python",
   "name": "python",
   "nbconvert_exporter": "python",
   "pygments_lexer": "ipython3",
   "version": "3.6.4"
  }
 },
 "nbformat": 4,
 "nbformat_minor": 2
}
