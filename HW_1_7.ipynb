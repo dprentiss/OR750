{
 "cells": [
  {
   "cell_type": "code",
   "execution_count": 1,
   "metadata": {},
   "outputs": [],
   "source": [
    "import numpy as np\n",
    "import pandas as pd\n",
    "from sklearn.preprocessing import scale\n",
    "np.set_printoptions(precision=3)\n",
    "np.random.seed(0)"
   ]
  },
  {
   "cell_type": "code",
   "execution_count": 2,
   "metadata": {},
   "outputs": [],
   "source": [
    "df = pd.read_csv('longley.txt', sep=',')"
   ]
  },
  {
   "cell_type": "code",
   "execution_count": 3,
   "metadata": {},
   "outputs": [],
   "source": [
    "df = df.drop(columns = ['Year'])"
   ]
  },
  {
   "cell_type": "code",
   "execution_count": 4,
   "metadata": {},
   "outputs": [],
   "source": [
    "D = df.rename(columns = {'Year.1':'Year'})"
   ]
  },
  {
   "cell_type": "code",
   "execution_count": 5,
   "metadata": {},
   "outputs": [],
   "source": [
    "D = D.values"
   ]
  },
  {
   "cell_type": "code",
   "execution_count": 6,
   "metadata": {},
   "outputs": [],
   "source": [
    "X = D[:,:6]"
   ]
  },
  {
   "cell_type": "code",
   "execution_count": 7,
   "metadata": {},
   "outputs": [
    {
     "name": "stdout",
     "output_type": "stream",
     "text": [
      "[[  83.     234.289  235.6    159.     107.608 1947.   ]\n",
      " [  88.5    259.426  232.5    145.6    108.632 1948.   ]\n",
      " [  88.2    258.054  368.2    161.6    109.773 1949.   ]\n",
      " [  89.5    284.599  335.1    165.     110.929 1950.   ]\n",
      " [  96.2    328.975  209.9    309.9    112.075 1951.   ]\n",
      " [  98.1    346.999  193.2    359.4    113.27  1952.   ]\n",
      " [  99.     365.385  187.     354.7    115.094 1953.   ]\n",
      " [ 100.     363.112  357.8    335.     116.219 1954.   ]\n",
      " [ 101.2    397.469  290.4    304.8    117.388 1955.   ]\n",
      " [ 104.6    419.18   282.2    285.7    118.734 1956.   ]\n",
      " [ 108.4    442.769  293.6    279.8    120.445 1957.   ]\n",
      " [ 110.8    444.546  468.1    263.7    121.95  1958.   ]\n",
      " [ 112.6    482.704  381.3    255.2    123.366 1959.   ]\n",
      " [ 114.2    502.601  393.1    251.4    125.368 1960.   ]\n",
      " [ 115.7    518.173  480.6    257.2    127.852 1961.   ]\n",
      " [ 116.9    554.894  400.7    282.7    130.081 1962.   ]]\n"
     ]
    }
   ],
   "source": [
    "print(X)"
   ]
  },
  {
   "cell_type": "code",
   "execution_count": 8,
   "metadata": {},
   "outputs": [],
   "source": [
    "X = scale(X)"
   ]
  },
  {
   "cell_type": "code",
   "execution_count": 9,
   "metadata": {},
   "outputs": [
    {
     "name": "stdout",
     "output_type": "stream",
     "text": [
      "[[-1.788 -1.594 -0.925 -1.509 -1.457 -1.627]\n",
      " [-1.261 -1.333 -0.96  -1.708 -1.305 -1.41 ]\n",
      " [-1.29  -1.347  0.54  -1.47  -1.136 -1.193]\n",
      " [-1.166 -1.071  0.174 -1.42  -0.964 -0.976]\n",
      " [-0.525 -0.61  -1.209  0.731 -0.794 -0.759]\n",
      " [-0.343 -0.423 -1.394  1.465 -0.617 -0.542]\n",
      " [-0.257 -0.232 -1.463  1.395 -0.346 -0.325]\n",
      " [-0.161 -0.255  0.425  1.103 -0.179 -0.108]\n",
      " [-0.046  0.102 -0.32   0.655 -0.005  0.108]\n",
      " [ 0.279  0.327 -0.41   0.371  0.195  0.325]\n",
      " [ 0.643  0.572 -0.284  0.284  0.449  0.542]\n",
      " [ 0.873  0.591  1.644  0.045  0.672  0.759]\n",
      " [ 1.045  0.987  0.685 -0.081  0.882  0.976]\n",
      " [ 1.198  1.194  0.815 -0.138  1.179  1.193]\n",
      " [ 1.342  1.356  1.782 -0.051  1.548  1.41 ]\n",
      " [ 1.456  1.737  0.899  0.327  1.879  1.627]]\n"
     ]
    }
   ],
   "source": [
    "print(X)"
   ]
  },
  {
   "cell_type": "code",
   "execution_count": 10,
   "metadata": {},
   "outputs": [],
   "source": [
    "y = D[:,6]"
   ]
  },
  {
   "cell_type": "code",
   "execution_count": 11,
   "metadata": {},
   "outputs": [
    {
     "name": "stdout",
     "output_type": "stream",
     "text": [
      "[60.323 61.122 60.171 61.187 63.221 63.639 64.989 63.761 66.019 67.857\n",
      " 68.169 66.513 68.655 69.564 69.331 70.551]\n"
     ]
    }
   ],
   "source": [
    "print(y)"
   ]
  },
  {
   "cell_type": "code",
   "execution_count": 12,
   "metadata": {},
   "outputs": [],
   "source": [
    "y = scale(y, with_std=False)"
   ]
  },
  {
   "cell_type": "code",
   "execution_count": 13,
   "metadata": {},
   "outputs": [
    {
     "name": "stdout",
     "output_type": "stream",
     "text": [
      "[-4.994 -4.195 -5.146 -4.13  -2.096 -1.678 -0.328 -1.556  0.702  2.54\n",
      "  2.852  1.196  3.338  4.247  4.014  5.234]\n"
     ]
    }
   ],
   "source": [
    "print(y)"
   ]
  },
  {
   "cell_type": "code",
   "execution_count": 14,
   "metadata": {},
   "outputs": [],
   "source": [
    "n = np.size(X,0)\n",
    "p = np.size(X,1)"
   ]
  },
  {
   "cell_type": "code",
   "execution_count": 15,
   "metadata": {},
   "outputs": [
    {
     "data": {
      "text/plain": [
       "(16, 6)"
      ]
     },
     "execution_count": 15,
     "metadata": {},
     "output_type": "execute_result"
    }
   ],
   "source": [
    "n, p"
   ]
  },
  {
   "cell_type": "code",
   "execution_count": 16,
   "metadata": {},
   "outputs": [],
   "source": [
    "beta_0 = np.linalg.pinv(X.transpose().dot(X) + np.identity(p)).dot(X.transpose().dot(y))"
   ]
  },
  {
   "cell_type": "code",
   "execution_count": 17,
   "metadata": {},
   "outputs": [
    {
     "name": "stdout",
     "output_type": "stream",
     "text": [
      "[ 0.896  1.086 -0.744 -0.197  0.789  1.062]\n"
     ]
    }
   ],
   "source": [
    "print(beta_0)"
   ]
  },
  {
   "cell_type": "code",
   "execution_count": 18,
   "metadata": {},
   "outputs": [],
   "source": [
    "r = y - X.dot(beta_0)"
   ]
  },
  {
   "cell_type": "code",
   "execution_count": 19,
   "metadata": {},
   "outputs": [
    {
     "name": "stdout",
     "output_type": "stream",
     "text": [
      "[ 0.233 -0.139 -0.251 -0.274 -0.286 -0.597 -0.041 -0.345  0.413  1.203\n",
      "  0.569 -0.333  0.09   0.258 -0.065 -0.436]\n"
     ]
    }
   ],
   "source": [
    "print(r)"
   ]
  },
  {
   "cell_type": "code",
   "execution_count": 20,
   "metadata": {},
   "outputs": [],
   "source": [
    "sigma_sqr_0 = r.transpose().dot(r) / n"
   ]
  },
  {
   "cell_type": "code",
   "execution_count": 21,
   "metadata": {},
   "outputs": [
    {
     "name": "stdout",
     "output_type": "stream",
     "text": [
      "0.19322031712381066\n"
     ]
    }
   ],
   "source": [
    "print(sigma_sqr_0)"
   ]
  },
  {
   "cell_type": "code",
   "execution_count": 22,
   "metadata": {},
   "outputs": [],
   "source": [
    "tau_0 = 1.0 / (beta_0 * beta_0)"
   ]
  },
  {
   "cell_type": "code",
   "execution_count": 23,
   "metadata": {},
   "outputs": [
    {
     "name": "stdout",
     "output_type": "stream",
     "text": [
      "[ 1.246  0.848  1.808 25.867  1.604  0.886]\n"
     ]
    }
   ],
   "source": [
    "print(tau_0)"
   ]
  },
  {
   "cell_type": "code",
   "execution_count": 25,
   "metadata": {},
   "outputs": [],
   "source": [
    "lambda_0 = p * np.sqrt(sigma_sqr_0)/sum(abs(beta_0))"
   ]
  },
  {
   "cell_type": "code",
   "execution_count": 26,
   "metadata": {},
   "outputs": [
    {
     "data": {
      "text/plain": [
       "0.5524867860453111"
      ]
     },
     "execution_count": 26,
     "metadata": {},
     "output_type": "execute_result"
    }
   ],
   "source": [
    "lambda_0"
   ]
  },
  {
   "cell_type": "code",
   "execution_count": 27,
   "metadata": {},
   "outputs": [],
   "source": [
    "def D_tau(tau_sqr):\n",
    "    return np.diag(tau_sqr)"
   ]
  },
  {
   "cell_type": "code",
   "execution_count": 28,
   "metadata": {},
   "outputs": [],
   "source": [
    "D_tau_0 = D_tau(tau_0)"
   ]
  },
  {
   "cell_type": "code",
   "execution_count": 29,
   "metadata": {},
   "outputs": [
    {
     "data": {
      "text/plain": [
       "array([[ 1.246,  0.   ,  0.   ,  0.   ,  0.   ,  0.   ],\n",
       "       [ 0.   ,  0.848,  0.   ,  0.   ,  0.   ,  0.   ],\n",
       "       [ 0.   ,  0.   ,  1.808,  0.   ,  0.   ,  0.   ],\n",
       "       [ 0.   ,  0.   ,  0.   , 25.867,  0.   ,  0.   ],\n",
       "       [ 0.   ,  0.   ,  0.   ,  0.   ,  1.604,  0.   ],\n",
       "       [ 0.   ,  0.   ,  0.   ,  0.   ,  0.   ,  0.886]])"
      ]
     },
     "execution_count": 29,
     "metadata": {},
     "output_type": "execute_result"
    }
   ],
   "source": [
    "D_tau_0"
   ]
  },
  {
   "cell_type": "code",
   "execution_count": 30,
   "metadata": {},
   "outputs": [],
   "source": [
    "def beta(D_tau, sigma_sqr):\n",
    "    A = X.transpose().dot(X) + np.linalg.pinv(D_tau)\n",
    "    A_plus = np.linalg.pinv(A)\n",
    "    loc = A_plus.dot(X.transpose().dot(y))\n",
    "    scale = sigma_sqr * A_plus\n",
    "    return np.random.multivariate_normal(loc, scale)"
   ]
  },
  {
   "cell_type": "code",
   "execution_count": 56,
   "metadata": {},
   "outputs": [],
   "source": [
    "def sigma_sqr(beta, D_tau):\n",
    "    shape = (n - 1)/2 + p/2\n",
    "    scale = (y - X.dot(beta)).transpose().dot(y - X.dot(beta))/2 \\\n",
    "        + beta.transpose().dot(np.linalg.pinv(D_tau)).dot(beta)/2\n",
    "    return 1 / np.random.gamma(shape, scale)"
   ]
  },
  {
   "cell_type": "code",
   "execution_count": 57,
   "metadata": {},
   "outputs": [],
   "source": [
    "def sample(tau_0, data, numSamples):\n",
    "    tau_i = tau_0\n",
    "    beta_i = beta(D_tau(tau_i))"
   ]
  },
  {
   "cell_type": "code",
   "execution_count": 58,
   "metadata": {
    "scrolled": true
   },
   "outputs": [
    {
     "data": {
      "text/plain": [
       "array([ 1.141,  0.373, -0.604,  0.009,  1.089,  1.029])"
      ]
     },
     "execution_count": 58,
     "metadata": {},
     "output_type": "execute_result"
    }
   ],
   "source": [
    "beta(D_tau_0, sigma_sqr_0)"
   ]
  },
  {
   "cell_type": "code",
   "execution_count": 59,
   "metadata": {},
   "outputs": [
    {
     "data": {
      "text/plain": [
       "0.019288185311634117"
      ]
     },
     "execution_count": 59,
     "metadata": {},
     "output_type": "execute_result"
    }
   ],
   "source": [
    "sigma_sqr(beta_0, D_tau_0)"
   ]
  },
  {
   "cell_type": "code",
   "execution_count": null,
   "metadata": {},
   "outputs": [],
   "source": []
  }
 ],
 "metadata": {
  "kernelspec": {
   "display_name": "Python 3",
   "language": "python",
   "name": "python3"
  },
  "language_info": {
   "codemirror_mode": {
    "name": "ipython",
    "version": 3
   },
   "file_extension": ".py",
   "mimetype": "text/x-python",
   "name": "python",
   "nbconvert_exporter": "python",
   "pygments_lexer": "ipython3",
   "version": "3.6.5"
  }
 },
 "nbformat": 4,
 "nbformat_minor": 2
}
